{
 "cells": [
  {
   "cell_type": "code",
   "execution_count": 1,
   "id": "67f14840",
   "metadata": {},
   "outputs": [
    {
     "name": "stdout",
     "output_type": "stream",
     "text": [
      "Enter the side of the equilateral triangle: 4\n",
      "6.928\n"
     ]
    }
   ],
   "source": [
    "import math\n",
    "side = float(input(\"Enter the side of the equilateral triangle: \"))\n",
    "area = ((math.sqrt(3))/4)*pow(side, 2)\n",
    "print(round(area, 3))"
   ]
  },
  {
   "cell_type": "code",
   "execution_count": 2,
   "id": "8c2fbe08",
   "metadata": {},
   "outputs": [
    {
     "name": "stdout",
     "output_type": "stream",
     "text": [
      "enter the word: python\n",
      "p = 1\n",
      "y = 1\n",
      "t = 1\n",
      "h = 1\n",
      "o = 1\n",
      "n = 1\n"
     ]
    }
   ],
   "source": [
    "word = input('enter the word: ')\n",
    "for i in word:\n",
    "    print(i, '=', word.count(i))"
   ]
  },
  {
   "cell_type": "code",
   "execution_count": 3,
   "id": "b71fa044",
   "metadata": {},
   "outputs": [
    {
     "name": "stdout",
     "output_type": "stream",
     "text": [
      "enter the length of rectangle 5\n",
      "enter the width of rectangle 8\n",
      "Area of rectangle is 40\n",
      "Perimeter of rectangle is 26\n"
     ]
    }
   ],
   "source": [
    "def area_rectangle(length, width):\n",
    "    return(length*width)\n",
    "def perimeter_rectangle(length, width):\n",
    "    return(2*(length+width))\n",
    "length = int(input('enter the length of rectangle '))\n",
    "width = int(input('enter the width of rectangle '))\n",
    "print('Area of rectangle is', area_rectangle(length, width))\n",
    "print('Perimeter of rectangle is', perimeter_rectangle(length, width))"
   ]
  },
  {
   "cell_type": "code",
   "execution_count": 4,
   "id": "cdfb4636",
   "metadata": {},
   "outputs": [
    {
     "name": "stdout",
     "output_type": "stream",
     "text": [
      "Enter three numbers followed by space : -3 0 5\n",
      "First number : -3\n",
      "Second number : 0\n",
      "Third number : 5\n",
      "-3  is smallest\n"
     ]
    }
   ],
   "source": [
    "a,b,c = input(\"Enter three numbers followed by space : \").split()\n",
    "print(\"First number :\",a)\n",
    "print(\"Second number :\",b)\n",
    "print(\"Third number :\",c)\n",
    "if (a<b and a<c):\n",
    "    print(a,\" is smallest\")\n",
    "if (b<a and b<c):\n",
    "    print(b,\" is smallest\")\n",
    "if (c<a and c<b):\n",
    "    print(c,\" is smallest\")\n",
    "if (a==b==c):\n",
    "    print(\"Entered numbers are equal!!!\")"
   ]
  },
  {
   "cell_type": "code",
   "execution_count": 5,
   "id": "c72b6b8c",
   "metadata": {},
   "outputs": [
    {
     "name": "stdout",
     "output_type": "stream",
     "text": [
      "Enter time in hours 7\n",
      "7 Hour is equal to 25200 Seconds\n"
     ]
    }
   ],
   "source": [
    "def to_seconds(t):\n",
    "    s=t*3600\n",
    "    return s\n",
    "time_in_hours = int(input(\"Enter time in hours \"))\n",
    "print(time_in_hours,\"Hour is equal to\",to_seconds(time_in_hours),\"Seconds\")"
   ]
  },
  {
   "cell_type": "code",
   "execution_count": 6,
   "id": "ffbd1715",
   "metadata": {},
   "outputs": [
    {
     "name": "stdout",
     "output_type": "stream",
     "text": [
      "enter a number for multiplication table8\n",
      "1 * 8 = 8\n",
      "2 * 8 = 16\n",
      "3 * 8 = 24\n",
      "4 * 8 = 32\n",
      "5 * 8 = 40\n",
      "6 * 8 = 48\n",
      "7 * 8 = 56\n",
      "8 * 8 = 64\n",
      "9 * 8 = 72\n",
      "10 * 8 = 80\n"
     ]
    }
   ],
   "source": [
    "y=int(input(\"enter a number for multiplication table\"))\n",
    "for i in range(1,11):\n",
    "    print(i,'*', y, '=', i*y)"
   ]
  },
  {
   "cell_type": "code",
   "execution_count": 9,
   "id": "3c5a277e",
   "metadata": {},
   "outputs": [
    {
     "name": "stdout",
     "output_type": "stream",
     "text": [
      "enter your favourite foodbiriyani, rice, juice\n",
      "I like biriyani,\n",
      "I like rice,\n",
      "I like juice\n"
     ]
    }
   ],
   "source": [
    "a, b, c = input('enter your favourite food').split()\n",
    "Food_List = [a, b, c]\n",
    "for i in Food_List:\n",
    "    print(\"I like\", i)"
   ]
  },
  {
   "cell_type": "code",
   "execution_count": 10,
   "id": "9ae15370",
   "metadata": {},
   "outputs": [
    {
     "name": "stdout",
     "output_type": "stream",
     "text": [
      "Enter value of x2\n",
      "They are unequal\n",
      "They are unequal\n",
      "They are equal\n",
      "They are unequal\n",
      "They are unequal\n",
      "They are unequal\n",
      "They are unequal\n",
      "They are unequal\n",
      "They are unequal\n",
      "They are unequal\n"
     ]
    }
   ],
   "source": [
    "x= int(input('Enter value of x'))\n",
    "for y in range (0,10):\n",
    "        if x==y:\n",
    "            print(\"They are equal\")\n",
    "        else:\n",
    "            print( \"They are unequal\")"
   ]
  },
  {
   "cell_type": "code",
   "execution_count": null,
   "id": "2c0e95a6",
   "metadata": {},
   "outputs": [],
   "source": []
  }
 ],
 "metadata": {
  "kernelspec": {
   "display_name": "Python 3",
   "language": "python",
   "name": "python3"
  },
  "language_info": {
   "codemirror_mode": {
    "name": "ipython",
    "version": 3
   },
   "file_extension": ".py",
   "mimetype": "text/x-python",
   "name": "python",
   "nbconvert_exporter": "python",
   "pygments_lexer": "ipython3",
   "version": "3.8.8"
  }
 },
 "nbformat": 4,
 "nbformat_minor": 5
}
